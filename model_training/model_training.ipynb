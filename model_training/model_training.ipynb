{
 "cells": [
  {
   "cell_type": "code",
   "execution_count": 2,
   "id": "ca9d047b-c87f-41d6-aa65-584def0757f9",
   "metadata": {},
   "outputs": [
    {
     "name": "stderr",
     "output_type": "stream",
     "text": [
      "100%|████████████████████████████████████████████████████████████████████████| 5721/5721 [00:03<00:00, 1483.26it/s]\n",
      "100%|████████████████████████████████████████████████████████████████████████| 5553/5553 [00:03<00:00, 1491.75it/s]\n"
     ]
    },
    {
     "name": "stdout",
     "output_type": "stream",
     "text": [
      "0.9746318963987937\n",
      "0.9746318963987937\n"
     ]
    },
    {
     "data": {
      "text/plain": [
       "0"
      ]
     },
     "execution_count": 2,
     "metadata": {},
     "output_type": "execute_result"
    }
   ],
   "source": [
    "from sklearn.tree import DecisionTreeClassifier\n",
    "from sklearn.metrics import accuracy_score\n",
    "import pandas as pd\n",
    "import numpy as np\n",
    "import tqdm\n",
    "import numpy.random as random\n",
    "import pickle\n",
    "\n",
    "pbdf = pd.read_csv(\"permission_benign.csv\")\n",
    "pmdf = pd.read_csv(\"permission_malware.csv\")\n",
    "\n",
    "perm_list = list(pbdf.columns)[1:]\n",
    "\n",
    "with open(\"./perm_headers.pkl\", \"wb\") as f:\n",
    "    f.write(pickle.dumps(perm_list))\n",
    "\n",
    "with open(\"./perm_headers.pkl\", \"rb\") as f:\n",
    "    perm_list = pickle.loads(f.read())\n",
    "\n",
    "model = DecisionTreeClassifier()\n",
    "\n",
    "#Initialize malware and benign vectors from drebin csv\n",
    "benign=[]\n",
    "bfnames=pbdf[\"Unnamed: 0\"].tolist()\n",
    "for x in tqdm.tqdm(bfnames):\n",
    "    benign.append(pbdf[pbdf[\"Unnamed: 0\"]==x].to_numpy()[0][1:].astype(np.float32))\n",
    "\n",
    "malware=[]\n",
    "mfnames=pmdf[\"Unnamed: 0\"].tolist()\n",
    "for x in tqdm.tqdm(mfnames):\n",
    "      malware.append(pmdf[pmdf[\"Unnamed: 0\"]==x].to_numpy()[0][1:].astype(np.float32))\n",
    "\n",
    "random.seed(111)\n",
    "blabel=[0 for i in range(len(benign))]\n",
    "mlabel=[1 for i in range(len(malware))]\n",
    "labels=np.array(blabel+mlabel).astype(np.int32)\n",
    "data=np.concatenate((benign,malware)).astype(np.float32)\n",
    "c = list(zip(data, labels))\n",
    "random.shuffle(c)\n",
    "data, labels = zip(*c)\n",
    "labels=np.array(labels)\n",
    "data=np.array(data)\n",
    "\n",
    "model = model.fit(data, labels)\n",
    "\n",
    "preds = model.predict(data)\n",
    "print(accuracy_score(labels, preds))\n",
    "\n",
    "with open(\"./dt_model.pkl\", \"wb\") as f:\n",
    "    f.write(pickle.dumps(model))\n",
    "\n",
    "with open(\"./dt_model.pkl\", \"rb\") as f:\n",
    "    model = pickle.loads(f.read())\n",
    "\n",
    "preds = model.predict(data)\n",
    "print(accuracy_score(labels, preds))\n",
    "\n",
    "model.predict(data[0].reshape(1,-1))[0]"
   ]
  },
  {
   "cell_type": "code",
   "execution_count": null,
   "id": "384e495a-4e78-45a9-900b-fe379d30c953",
   "metadata": {},
   "outputs": [],
   "source": []
  }
 ],
 "metadata": {
  "kernelspec": {
   "display_name": "Python 3 (ipykernel)",
   "language": "python",
   "name": "python3"
  },
  "language_info": {
   "codemirror_mode": {
    "name": "ipython",
    "version": 3
   },
   "file_extension": ".py",
   "mimetype": "text/x-python",
   "name": "python",
   "nbconvert_exporter": "python",
   "pygments_lexer": "ipython3",
   "version": "3.9.17"
  }
 },
 "nbformat": 4,
 "nbformat_minor": 5
}
